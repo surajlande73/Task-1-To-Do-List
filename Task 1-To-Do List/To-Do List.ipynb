{
 "cells": [
  {
   "cell_type": "code",
   "execution_count": 2,
   "id": "94e2522a-18f8-4e7b-b558-d484d7217ca8",
   "metadata": {},
   "outputs": [
    {
     "name": "stdout",
     "output_type": "stream",
     "text": [
      "\n",
      "To-Do List Menu:\n",
      "1. Add task\n",
      "2. View tasks\n",
      "3. Update task\n",
      "4. Delete task\n",
      "5. Quit\n"
     ]
    },
    {
     "name": "stdin",
     "output_type": "stream",
     "text": [
      "Choose an option:  1\n",
      "Enter a task:  gym\n"
     ]
    },
    {
     "name": "stdout",
     "output_type": "stream",
     "text": [
      "Task 'gym' added!\n",
      "\n",
      "To-Do List Menu:\n",
      "1. Add task\n",
      "2. View tasks\n",
      "3. Update task\n",
      "4. Delete task\n",
      "5. Quit\n"
     ]
    },
    {
     "name": "stdin",
     "output_type": "stream",
     "text": [
      "Choose an option:  2\n"
     ]
    },
    {
     "name": "stdout",
     "output_type": "stream",
     "text": [
      "Your tasks:\n",
      "1. gym\n",
      "\n",
      "To-Do List Menu:\n",
      "1. Add task\n",
      "2. View tasks\n",
      "3. Update task\n",
      "4. Delete task\n",
      "5. Quit\n"
     ]
    },
    {
     "name": "stdin",
     "output_type": "stream",
     "text": [
      "Choose an option:  3\n",
      "Enter the task number to update:  1\n",
      "Enter the new task:  dinnar\n"
     ]
    },
    {
     "name": "stdout",
     "output_type": "stream",
     "text": [
      "Task 1 updated to 'dinnar'\n",
      "\n",
      "To-Do List Menu:\n",
      "1. Add task\n",
      "2. View tasks\n",
      "3. Update task\n",
      "4. Delete task\n",
      "5. Quit\n"
     ]
    },
    {
     "name": "stdin",
     "output_type": "stream",
     "text": [
      "Choose an option:  4\n",
      "Enter the task number to delete:  1\n"
     ]
    },
    {
     "name": "stdout",
     "output_type": "stream",
     "text": [
      "Task 1 deleted.\n",
      "\n",
      "To-Do List Menu:\n",
      "1. Add task\n",
      "2. View tasks\n",
      "3. Update task\n",
      "4. Delete task\n",
      "5. Quit\n"
     ]
    },
    {
     "name": "stdin",
     "output_type": "stream",
     "text": [
      "Choose an option:  5\n"
     ]
    },
    {
     "name": "stdout",
     "output_type": "stream",
     "text": [
      "Goodbye!\n"
     ]
    }
   ],
   "source": [
    "class ToDoList:\n",
    "    def __init__(self):\n",
    "        self.tasks = []\n",
    "\n",
    "    def add_task(self, task):\n",
    "        self.tasks.append(task)\n",
    "        print(f\"Task '{task}' added!\")\n",
    "\n",
    "    def view_tasks(self):\n",
    "        if not self.tasks:\n",
    "            print(\"No tasks available.\")\n",
    "        else:\n",
    "            print(\"Your tasks:\")\n",
    "            for i, task in enumerate(self.tasks, 1):\n",
    "                print(f\"{i}. {task}\")\n",
    "\n",
    "    def update_task(self, task_number, new_task):\n",
    "        try:\n",
    "            task_number = int(task_number)\n",
    "            if task_number < 1 or task_number > len(self.tasks):\n",
    "                print(\"Invalid task number.\")\n",
    "            else:\n",
    "                self.tasks[task_number - 1] = new_task\n",
    "                print(f\"Task {task_number} updated to '{new_task}'\")\n",
    "        except ValueError:\n",
    "            print(\"Invalid task number.\")\n",
    "\n",
    "    def delete_task(self, task_number):\n",
    "        try:\n",
    "            task_number = int(task_number)\n",
    "            if task_number < 1 or task_number > len(self.tasks):\n",
    "                print(\"Invalid task number.\")\n",
    "            else:\n",
    "                del self.tasks[task_number - 1]\n",
    "                print(f\"Task {task_number} deleted.\")\n",
    "        except ValueError:\n",
    "            print(\"Invalid task number.\")\n",
    "\n",
    "def main():\n",
    "    todo_list = ToDoList()\n",
    "\n",
    "    while True:\n",
    "        print(\"\\nTo-Do List Menu:\")\n",
    "        print(\"1. Add task\")\n",
    "        print(\"2. View tasks\")\n",
    "        print(\"3. Update task\")\n",
    "        print(\"4. Delete task\")\n",
    "        print(\"5. Quit\")\n",
    "\n",
    "        choice = input(\"Choose an option: \")\n",
    "\n",
    "        if choice == \"1\":\n",
    "            task = input(\"Enter a task: \")\n",
    "            todo_list.add_task(task)\n",
    "        elif choice == \"2\":\n",
    "            todo_list.view_tasks()\n",
    "        elif choice == \"3\":\n",
    "            task_number = input(\"Enter the task number to update: \")\n",
    "            new_task = input(\"Enter the new task: \")\n",
    "            todo_list.update_task(task_number, new_task)\n",
    "        elif choice == \"4\":\n",
    "            task_number = input(\"Enter the task number to delete: \")\n",
    "            todo_list.delete_task(task_number)\n",
    "        elif choice == \"5\":\n",
    "            print(\"Goodbye!\")\n",
    "            break\n",
    "        else:\n",
    "            print(\"Invalid option. Please try again.\")\n",
    "\n",
    "if __name__ == \"__main__\":\n",
    "    main()"
   ]
  },
  {
   "cell_type": "code",
   "execution_count": null,
   "id": "ffb2c286-e853-4999-a97d-cfdb1a66b2b7",
   "metadata": {},
   "outputs": [],
   "source": []
  }
 ],
 "metadata": {
  "kernelspec": {
   "display_name": "Python 3 (ipykernel)",
   "language": "python",
   "name": "python3"
  },
  "language_info": {
   "codemirror_mode": {
    "name": "ipython",
    "version": 3
   },
   "file_extension": ".py",
   "mimetype": "text/x-python",
   "name": "python",
   "nbconvert_exporter": "python",
   "pygments_lexer": "ipython3",
   "version": "3.12.4"
  }
 },
 "nbformat": 4,
 "nbformat_minor": 5
}
